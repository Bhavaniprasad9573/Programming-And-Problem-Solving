{
 "cells": [
  {
   "cell_type": "markdown",
   "metadata": {},
   "source": [
    "### Problem :\n",
    "#### Problem Statement:\n",
    "Define the function to check if a given year is leap year\n",
    "\n",
    "#### Constraints:\n",
    "\n",
    "#### Test cases:\n",
    "* 2000 -> True\n",
    "* 1900 -> False\n",
    "* 2012 -> True\n",
    "* 2020 -> True\n",
    "* 0200 -> False"
   ]
  },
  {
   "cell_type": "code",
   "execution_count": 6,
   "metadata": {},
   "outputs": [
    {
     "name": "stdout",
     "output_type": "stream",
     "text": [
      "True\n",
      "False\n",
      "True\n",
      "True\n",
      "False\n"
     ]
    }
   ],
   "source": [
    "def leapyear(year):\n",
    "    if (year % 400 == 0) or(year % 100 != 0 and year % 2 == 0):\n",
    "        return True\n",
    "    return False\n",
    "\n",
    "print(leapyear(2000))\n",
    "print(leapyear(1900))\n",
    "print(leapyear(2012))\n",
    "print(leapyear(2020))\n",
    "print(leapyear(200))"
   ]
  },
  {
   "cell_type": "code",
   "execution_count": null,
   "metadata": {},
   "outputs": [],
   "source": []
  },
  {
   "cell_type": "markdown",
   "metadata": {},
   "source": [
    "### Problem :\n",
    "#### Problem Statement:\n",
    "Design a Python script to determine the difference in date for given two dates in YYYY:MM:DD format(0 <= YYYY <= 9999, 1 <= MM <= 12, 1 <= DD <= 31) following the leap year rules. Return the total number of days existing between the two dates.\n",
    "\n",
    "#### Constraints:\n",
    "\n",
    "#### Test cases:\n",
    "* dateDifference('2019:05:10', '2019:05:01') -> 9\n",
    "* dateDifference('0003:03:03', '0003:06:06') -> 95"
   ]
  },
  {
   "cell_type": "code",
   "execution_count": 8,
   "metadata": {},
   "outputs": [
    {
     "ename": "SyntaxError",
     "evalue": "invalid syntax (<ipython-input-8-0d37f45b2e40>, line 1)",
     "output_type": "error",
     "traceback": [
      "\u001b[1;36m  File \u001b[1;32m\"<ipython-input-8-0d37f45b2e40>\"\u001b[1;36m, line \u001b[1;32m1\u001b[0m\n\u001b[1;33m    def date difference(date1, date2):\u001b[0m\n\u001b[1;37m                      ^\u001b[0m\n\u001b[1;31mSyntaxError\u001b[0m\u001b[1;31m:\u001b[0m invalid syntax\n"
     ]
    }
   ],
   "source": [
    "def date difference(date1, date2):\n",
    "    return\n",
    "\n",
    "\n",
    "def daysinfeb(year):\n",
    "\n",
    "    monthdays = {'01':31, '03':31, '04':30, '05':31, '06':30, '07':31, '08':31, '09':30, '10':31, '11':30. '12':31}\n",
    "    if (month < 7 and month % 2 == 0) or (month >7 and month % 2 != 0):\n",
    "        return 30\n",
    "    else:\n",
    "        return 31"
   ]
  },
  {
   "cell_type": "code",
   "execution_count": null,
   "metadata": {},
   "outputs": [],
   "source": []
  },
  {
   "cell_type": "code",
   "execution_count": null,
   "metadata": {},
   "outputs": [],
   "source": []
  },
  {
   "cell_type": "markdown",
   "metadata": {},
   "source": [
    "### Problem 1:\n",
    "#### Problem Statement:\n",
    "Define a function to convert a decimal number to the corresponding binary number.\n",
    "\n",
    "#### Constraints:\n",
    "\n",
    "#### Test cases:\n",
    "* decimalToBinary(15) -> 1111\n",
    "* decimalToBinary(1) -> 1\n"
   ]
  },
  {
   "cell_type": "code",
   "execution_count": 39,
   "metadata": {},
   "outputs": [
    {
     "name": "stdout",
     "output_type": "stream",
     "text": [
      "[1]\n",
      "[1, 1, 1, 1]\n"
     ]
    }
   ],
   "source": [
    "def decim(n, m):\n",
    "    if(n==0):\n",
    "        return True\n",
    "    else:\n",
    "        m.append(n%2)\n",
    "        decim(n//2,m)\n",
    "    return m[::-1]\n",
    "print(decim(1,[]))\n",
    "print(decim(15,[]))"
   ]
  },
  {
   "cell_type": "code",
   "execution_count": null,
   "metadata": {},
   "outputs": [],
   "source": []
  },
  {
   "cell_type": "markdown",
   "metadata": {},
   "source": [
    "### Problem 2:\n",
    "#### Problem Statement:\n",
    "Define a function to merge the characters of two strings alternatively. The remaining characters\n",
    "of the longer string are printed in the same order at the end.\n",
    "\n",
    "#### Constraints:\n",
    "\n",
    "#### Test cases:\n",
    "* mergeString('abcd', 'abcd') -> 'aabbccdd'\n",
    "* mergeString('abc', '123456') -> 'a1b2c3456'\n",
    "* mergeString('0', '123456') -> '0123456'"
   ]
  },
  {
   "cell_type": "code",
   "execution_count": 34,
   "metadata": {},
   "outputs": [
    {
     "name": "stdout",
     "output_type": "stream",
     "text": [
      "a1b2c3456\n",
      "aabbccdd\n",
      "0123456\n"
     ]
    }
   ],
   "source": [
    "def str(a, b):\n",
    "    if(len(a)>len(b)):\n",
    "        f=len(a)\n",
    "    else:\n",
    "        f=len(b)\n",
    "    c=\"\"\n",
    "    for i in range(0,f):\n",
    "        if(i+1>len(b)):\n",
    "            c=c+a[i]\n",
    "        elif(i+1>len(a)):\n",
    "            c=c+b[i]\n",
    "        else:\n",
    "            c=c+a[i]\n",
    "            c=c+b[i]\n",
    "    return(c)\n",
    "print(str('abc','123456'))\n",
    "print(str('abcd','abcd'))\n",
    "print(str('0', '123456'))"
   ]
  },
  {
   "cell_type": "code",
   "execution_count": null,
   "metadata": {},
   "outputs": [],
   "source": []
  },
  {
   "cell_type": "markdown",
   "metadata": {},
   "source": [
    "### Problem :\n",
    "#### Problem Statement:\n",
    " You are given n words. Some words may repeat. For each word, output its number of occurrences. The output order should correspond with the input order of appearance of the word. \n",
    "First line of input contains the total number of words n. Next n lines contain words that need to processed.\n",
    "\n",
    "First line of the output should contain the total number distinct words. Second line of output must contain the frequency of words the same order of their appearance as in the input\n",
    "\n",
    "#### Constraints:\n",
    "\n",
    "#### Test cases:\n",
    "* Sample Input :  6\n",
    "\n",
    "                  abcd\n",
    "\n",
    "                  ijkl\n",
    "\n",
    "                  abcd\n",
    "\n",
    "                  pqrs\n",
    "\n",
    "                  abcd\n",
    "\n",
    "                  ijkl\n",
    "\n",
    " Sample Output :   3\n",
    "\n",
    "                   3  2   1"
   ]
  },
  {
   "cell_type": "code",
   "execution_count": 38,
   "metadata": {},
   "outputs": [
    {
     "name": "stdout",
     "output_type": "stream",
     "text": [
      "abcd 3\n",
      "ijkl 2\n",
      "pqrs 1\n"
     ]
    }
   ],
   "source": [
    "def mos(a):\n",
    "    b = []\n",
    "    for x in a:\n",
    "        if x not in b:\n",
    "            b.append(x)\n",
    "    c=0\n",
    "    for i in range(0, len(b)):\n",
    "        for j in range(0, len(a)):\n",
    "            if(b[i]==a[j]):\n",
    "                c=c+1\n",
    "        print(b[i],c)\n",
    "        c=0\n",
    "a=['abcd','ijkl','abcd','pqrs','abcd','ijkl']\n",
    "mos(a)"
   ]
  },
  {
   "cell_type": "code",
   "execution_count": 41,
   "metadata": {},
   "outputs": [
    {
     "name": "stdout",
     "output_type": "stream",
     "text": [
      "😀\n"
     ]
    }
   ],
   "source": [
    "print(\"\\U0001f600\") "
   ]
  },
  {
   "cell_type": "code",
   "execution_count": null,
   "metadata": {},
   "outputs": [],
   "source": []
  }
 ],
 "metadata": {
  "kernelspec": {
   "display_name": "Python 3",
   "language": "python",
   "name": "python3"
  },
  "language_info": {
   "codemirror_mode": {
    "name": "ipython",
    "version": 3
   },
   "file_extension": ".py",
   "mimetype": "text/x-python",
   "name": "python",
   "nbconvert_exporter": "python",
   "pygments_lexer": "ipython3",
   "version": "3.7.3"
  }
 },
 "nbformat": 4,
 "nbformat_minor": 2
}

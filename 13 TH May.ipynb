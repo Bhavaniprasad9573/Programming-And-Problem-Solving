{
 "cells": [
  {
   "cell_type": "markdown",
   "metadata": {},
   "source": [
    "### Problem 1:\n",
    "#### Statement :\n",
    "Design a Python script to determine the difference in date for given two dates in YYYY:MM:DD format(0 <= YYYY <= 9999, 1 <= MM <= 12, 1 <= DD <= 31) following the leap year rules. Return the total number of days existing between the two dates.\n",
    "\n",
    "#### Test Cases:\n",
    "dateDifference('2019:05:10', '2019:05:01') -> 9\n",
    "dateDifference('0003:03:03', '0003:06:06') -> 95\n",
    "dateDifference('0001:03:27', '0001:06:03') -> 68"
   ]
  },
  {
   "cell_type": "code",
   "execution_count": null,
   "metadata": {},
   "outputs": [],
   "source": [
    "from datetime import date ,datetime\n",
    "def dateDiff(date1,date2):\n",
    "    year1=yearFromDate(date1)\n",
    "    month1=monthFromDate(date1)\n",
    "    day1=daysFromDate(date1)\n",
    "    year2=yearFromDate(date2)\n",
    "    month2=monthFromDate(date2)\n",
    "    day2=daysFromDate(date2)\n",
    "    d1=date(year=year1,month=month1,day=day1)\n",
    "    d2=date(year=year2,month=month2,day=day2)\n",
    "    return d2-d1\n",
    "dateDiff('0001:03:27', '0001:06:03')"
   ]
  }
 ],
 "metadata": {
  "kernelspec": {
   "display_name": "Python 3",
   "language": "python",
   "name": "python3"
  },
  "language_info": {
   "codemirror_mode": {
    "name": "ipython",
    "version": 3
   },
   "file_extension": ".py",
   "mimetype": "text/x-python",
   "name": "python",
   "nbconvert_exporter": "python",
   "pygments_lexer": "ipython3",
   "version": "3.7.3"
  }
 },
 "nbformat": 4,
 "nbformat_minor": 2
}

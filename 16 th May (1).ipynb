{
 "cells": [
  {
   "cell_type": "markdown",
   "metadata": {},
   "source": [
    "# Problem Solving\n",
    "\n",
    "## Date - 16th May\n",
    "\n"
   ]
  },
  {
   "cell_type": "markdown",
   "metadata": {},
   "source": [
    "### Problem 1:\n",
    "\n",
    "#### Problem Statement\n",
    "Define a function to read data from text file\\\n",
    "\n",
    "#### Constraints:\n",
    "\n",
    "#### Test case 1\n",
    "#### Test case 2\n",
    "#### Test case 3"
   ]
  },
  {
   "cell_type": "code",
   "execution_count": 62,
   "metadata": {},
   "outputs": [
    {
     "data": {
      "text/plain": [
       "'Data in line1\\nData in line2\\n'"
      ]
     },
     "execution_count": 62,
     "metadata": {},
     "output_type": "execute_result"
    }
   ],
   "source": [
    "def readfiledata(filename):\n",
    "    f = open(filename, 'r')\n",
    "    filedata = f.readline()\n",
    "    filedata += f.readline()\n",
    "    \n",
    "    \n",
    "    f.close()\n",
    "    return filedata\n",
    "\n",
    "readfiledata('DataFiles/data.txt')"
   ]
  },
  {
   "cell_type": "code",
   "execution_count": 63,
   "metadata": {},
   "outputs": [
    {
     "data": {
      "text/plain": [
       "'Data in line1\\nData in line2\\nData in line3'"
      ]
     },
     "execution_count": 63,
     "metadata": {},
     "output_type": "execute_result"
    }
   ],
   "source": [
    "def readfiledata(filename):\n",
    "    f = open(filename, 'r')\n",
    "    filedata = f.read()\n",
    "    \n",
    "    f.close()\n",
    "    return filedata\n",
    "\n",
    "readfiledata('DataFiles/data.txt')"
   ]
  },
  {
   "cell_type": "code",
   "execution_count": 64,
   "metadata": {},
   "outputs": [
    {
     "data": {
      "text/plain": [
       "'Data in line1\\n'"
      ]
     },
     "execution_count": 64,
     "metadata": {},
     "output_type": "execute_result"
    }
   ],
   "source": [
    "def readfiledata(filename):\n",
    "    with open(filename, 'r') as f:\n",
    "        filedata = f.readline()\n",
    "    \n",
    "\n",
    "    return filedata\n",
    "\n",
    "readfiledata('DataFiles/data.txt')"
   ]
  },
  {
   "cell_type": "code",
   "execution_count": 65,
   "metadata": {},
   "outputs": [
    {
     "name": "stdout",
     "output_type": "stream",
     "text": [
      "Data in line1\n",
      "\n",
      "Data in line2\n",
      "\n",
      "Data in line3\n"
     ]
    }
   ],
   "source": [
    "def readfiledata(filename):\n",
    "    with open(filename, 'r') as f:\n",
    "        for line in f:\n",
    "            print(line)\n",
    "\n",
    "    return \n",
    "\n",
    "readfiledata('DataFiles/data.txt')"
   ]
  },
  {
   "cell_type": "code",
   "execution_count": 66,
   "metadata": {},
   "outputs": [
    {
     "name": "stdout",
     "output_type": "stream",
     "text": [
      "Data in line1\n",
      "Data in line2\n",
      "Data in line3"
     ]
    }
   ],
   "source": [
    "def readfiledata(filename):\n",
    "    with open(filename, 'r') as f:\n",
    "        for line in f:\n",
    "            print(line, end = '')\n",
    "\n",
    "    return \n",
    "\n",
    "readfiledata('DataFiles/data.txt')"
   ]
  },
  {
   "cell_type": "code",
   "execution_count": 67,
   "metadata": {},
   "outputs": [
    {
     "name": "stdout",
     "output_type": "stream",
     "text": [
      "Data in line1\n",
      "Data in line2\n",
      "Data in line3\n"
     ]
    }
   ],
   "source": [
    "def readfiledata(filename):\n",
    "    with open(filename, 'r') as f:\n",
    "        #for line in f:\n",
    "            # print(line, end = '')\n",
    "        print(f.read())\n",
    "\n",
    "    return \n",
    "\n",
    "readfiledata('DataFiles/data.txt')"
   ]
  },
  {
   "cell_type": "code",
   "execution_count": 68,
   "metadata": {},
   "outputs": [],
   "source": [
    "def readfiledata(filename):\n",
    "    with open(filename, 'r') as f:\n",
    "        #for line in f:\n",
    "            # print(line, end = '')\n",
    "        print(f.read())\n",
    "\n",
    "    return \n",
    "\n"
   ]
  },
  {
   "cell_type": "code",
   "execution_count": 69,
   "metadata": {},
   "outputs": [],
   "source": [
    "def writeintofile(filename, data):\n",
    "    with open(filename, 'w') as f:\n",
    "        f.write(data)\n",
    "    return\n",
    "\n",
    "writeintofile('DataFiles/filewrite.txt', 'data wrritten into filewrite')"
   ]
  },
  {
   "cell_type": "code",
   "execution_count": 70,
   "metadata": {},
   "outputs": [],
   "source": [
    "def writeintofile(filename, data, mode):\n",
    "    with open(filename, mode) as f:\n",
    "        f.write(data)\n",
    "    return\n",
    "\n",
    "writeintofile('DataFiles/filewrite.txt', 'second line \\n', 'a')"
   ]
  },
  {
   "cell_type": "code",
   "execution_count": null,
   "metadata": {},
   "outputs": [],
   "source": []
  },
  {
   "cell_type": "markdown",
   "metadata": {},
   "source": [
    "### Problem 1:\n",
    "\n",
    "#### Problem Statement\n",
    "Define a function to generate a marks data file(text)\n",
    "\n",
    "\n",
    "#### Constraints:\n",
    "\n",
    "#### Test case 1\n",
    "#### Test case 2\n",
    "#### Test case 3"
   ]
  },
  {
   "cell_type": "code",
   "execution_count": 71,
   "metadata": {},
   "outputs": [],
   "source": [
    "import random\n",
    "\n",
    "def generatemarksdata(n, filename):\n",
    "    with open(filename, 'w') as marksfile:\n",
    "        for i in range(0, n):\n",
    "            marks = random.randint(1,100)\n",
    "            marksfile.write(str(marks)+'\\n')\n",
    "    return\n",
    "\n",
    "generatemarksdata(1300, 'DataFiles/marksdata.txt')\n"
   ]
  },
  {
   "cell_type": "code",
   "execution_count": null,
   "metadata": {},
   "outputs": [],
   "source": []
  },
  {
   "cell_type": "code",
   "execution_count": 72,
   "metadata": {},
   "outputs": [
    {
     "data": {
      "text/plain": [
       "0.0008653870027046651"
      ]
     },
     "execution_count": 72,
     "metadata": {},
     "output_type": "execute_result"
    }
   ],
   "source": [
    "import timeit\n",
    "def report(n, filename):\n",
    "    start=timeit.default_timer()\n",
    "    with open(filename, 'r') as r:\n",
    "    \n",
    "        l = []\n",
    "        for i in r:\n",
    "            l.append(int(i))\n",
    "        #print(l)\n",
    "        #return max(l),min(l),(sum(l)//n)\n",
    "        return timeit.default_timer()-start\n",
    "report(1300, 'marksdata.txt')\n"
   ]
  },
  {
   "cell_type": "code",
   "execution_count": 73,
   "metadata": {},
   "outputs": [
    {
     "ename": "UnboundLocalError",
     "evalue": "local variable 'marksdata' referenced before assignment",
     "output_type": "error",
     "traceback": [
      "\u001b[1;31m---------------------------------------------------------------------------\u001b[0m",
      "\u001b[1;31mUnboundLocalError\u001b[0m                         Traceback (most recent call last)",
      "\u001b[1;32m<ipython-input-73-9a4569121072>\u001b[0m in \u001b[0;36m<module>\u001b[1;34m\u001b[0m\n\u001b[0;32m      5\u001b[0m     \u001b[1;32mreturn\u001b[0m \u001b[0mtimeit\u001b[0m\u001b[1;33m.\u001b[0m\u001b[0mdefault_timer\u001b[0m\u001b[1;33m(\u001b[0m\u001b[1;33m)\u001b[0m\u001b[1;33m-\u001b[0m\u001b[0mstart\u001b[0m\u001b[1;33m\u001b[0m\u001b[1;33m\u001b[0m\u001b[0m\n\u001b[0;32m      6\u001b[0m \u001b[1;33m\u001b[0m\u001b[0m\n\u001b[1;32m----> 7\u001b[1;33m \u001b[0mgeneratemarksreport\u001b[0m\u001b[1;33m(\u001b[0m\u001b[1;34m'marksdata.txt'\u001b[0m\u001b[1;33m)\u001b[0m\u001b[1;33m\u001b[0m\u001b[1;33m\u001b[0m\u001b[0m\n\u001b[0m",
      "\u001b[1;32m<ipython-input-73-9a4569121072>\u001b[0m in \u001b[0;36mgeneratemarksreport\u001b[1;34m(marksfile)\u001b[0m\n\u001b[0;32m      2\u001b[0m \u001b[1;32mdef\u001b[0m \u001b[0mgeneratemarksreport\u001b[0m\u001b[1;33m(\u001b[0m\u001b[0mmarksfile\u001b[0m\u001b[1;33m)\u001b[0m\u001b[1;33m:\u001b[0m\u001b[1;33m\u001b[0m\u001b[1;33m\u001b[0m\u001b[0m\n\u001b[0;32m      3\u001b[0m     \u001b[0mstart\u001b[0m \u001b[1;33m=\u001b[0m \u001b[0mtimeit\u001b[0m\u001b[1;33m.\u001b[0m\u001b[0mdefault_timer\u001b[0m\u001b[1;33m(\u001b[0m\u001b[1;33m)\u001b[0m\u001b[1;33m\u001b[0m\u001b[1;33m\u001b[0m\u001b[0m\n\u001b[1;32m----> 4\u001b[1;33m     \u001b[0mmarksdata\u001b[0m \u001b[1;33m=\u001b[0m \u001b[0mreadfiledata\u001b[0m\u001b[1;33m(\u001b[0m\u001b[0mmarksdata\u001b[0m\u001b[1;33m)\u001b[0m\u001b[1;33m\u001b[0m\u001b[1;33m\u001b[0m\u001b[0m\n\u001b[0m\u001b[0;32m      5\u001b[0m     \u001b[1;32mreturn\u001b[0m \u001b[0mtimeit\u001b[0m\u001b[1;33m.\u001b[0m\u001b[0mdefault_timer\u001b[0m\u001b[1;33m(\u001b[0m\u001b[1;33m)\u001b[0m\u001b[1;33m-\u001b[0m\u001b[0mstart\u001b[0m\u001b[1;33m\u001b[0m\u001b[1;33m\u001b[0m\u001b[0m\n\u001b[0;32m      6\u001b[0m \u001b[1;33m\u001b[0m\u001b[0m\n",
      "\u001b[1;31mUnboundLocalError\u001b[0m: local variable 'marksdata' referenced before assignment"
     ]
    }
   ],
   "source": [
    "import re, timeit\n",
    "def generatemarksreport(marksfile):\n",
    "    start = timeit.default_timer()\n",
    "    marksdata = readfiledata(marksdata)\n",
    "    return timeit.default_timer()-start\n",
    "\n",
    "generatemarksreport('marksdata.txt')"
   ]
  },
  {
   "cell_type": "code",
   "execution_count": null,
   "metadata": {},
   "outputs": [],
   "source": []
  },
  {
   "cell_type": "code",
   "execution_count": null,
   "metadata": {},
   "outputs": [],
   "source": [
    "def square(n):\n",
    "    return n*n\n",
    "\n",
    "li = [1, 2, 3, 4, 5, 6]\n",
    "s = list(map(str, li))\n",
    "\n",
    "s = [float(i) for i in s]\n",
    "s"
   ]
  },
  {
   "cell_type": "code",
   "execution_count": null,
   "metadata": {},
   "outputs": [],
   "source": [
    "import timeit\n",
    "def square(n):\n",
    "    return n*n\n",
    "st = timeit.default_timer()\n",
    "\n",
    "\n",
    "li = [1, 2, 3, 4, 5, 6]\n",
    "s = list(map(str, li))\n",
    "\n",
    "s = [float(i) for i in s]\n",
    "print(timeit.default_timer()-st)\n",
    "s\n"
   ]
  },
  {
   "cell_type": "code",
   "execution_count": null,
   "metadata": {},
   "outputs": [],
   "source": [
    "def distinction(mark):\n",
    "    return mark >=80\n",
    "\n",
    "dis = sum(map(distinction, marksdata))\n",
    "\n",
    "dis"
   ]
  },
  {
   "cell_type": "code",
   "execution_count": null,
   "metadata": {},
   "outputs": [],
   "source": []
  },
  {
   "cell_type": "code",
   "execution_count": 77,
   "metadata": {},
   "outputs": [
    {
     "name": "stdout",
     "output_type": "stream",
     "text": [
      "[[0 1 2]\n",
      " [3 4 5]]\n"
     ]
    },
    {
     "data": {
      "text/plain": [
       "numpy.ndarray"
      ]
     },
     "execution_count": 77,
     "metadata": {},
     "output_type": "execute_result"
    }
   ],
   "source": [
    "import numpy as np \n",
    "\n",
    "a = np.array([[0, 1, 2], [3, 4, 5]])\n",
    "\n",
    "print(a)\n",
    "type(a)"
   ]
  },
  {
   "cell_type": "code",
   "execution_count": null,
   "metadata": {},
   "outputs": [],
   "source": []
  }
 ],
 "metadata": {
  "kernelspec": {
   "display_name": "Python 3",
   "language": "python",
   "name": "python3"
  },
  "language_info": {
   "codemirror_mode": {
    "name": "ipython",
    "version": 3
   },
   "file_extension": ".py",
   "mimetype": "text/x-python",
   "name": "python",
   "nbconvert_exporter": "python",
   "pygments_lexer": "ipython3",
   "version": "3.7.3"
  }
 },
 "nbformat": 4,
 "nbformat_minor": 2
}

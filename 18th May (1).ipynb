{
 "cells": [
  {
   "cell_type": "markdown",
   "metadata": {},
   "source": [
    "### Problem :\n",
    "#### Problem Statement :\n",
    "Plotting 2D graphs using matplotlib\n",
    "\n",
    "#### Constraints :\n",
    "\n",
    "#### Test Cases :\n",
    "\n"
   ]
  },
  {
   "cell_type": "code",
   "execution_count": null,
   "metadata": {},
   "outputs": [],
   "source": [
    "import matplotlib.pyplot as plt\n",
    "import matplotlib.mlab as mlab\n",
    "\n",
    "plt.plot([1, 2, 3, 4], [1, 8, 27, 64])\n",
    "plt.xlabel('time')\n",
    "plt.ylabel('distance')\n",
    "plt.show"
   ]
  },
  {
   "cell_type": "code",
   "execution_count": null,
   "metadata": {},
   "outputs": [],
   "source": []
  },
  {
   "cell_type": "markdown",
   "metadata": {},
   "source": [
    "### Problem :\n",
    "#### Problem Statement :\n",
    "\n",
    "\n",
    "#### Constraints :\n",
    "\n",
    "#### Test Cases :\n",
    "\n"
   ]
  },
  {
   "cell_type": "code",
   "execution_count": null,
   "metadata": {},
   "outputs": [],
   "source": [
    "import numpy as np\n",
    "\n",
    "s = np.arange(0.0, 2.0, 0.1)\n",
    "\n",
    "np.pi\n"
   ]
  },
  {
   "cell_type": "code",
   "execution_count": null,
   "metadata": {},
   "outputs": [],
   "source": [
    "import numpy as np\n",
    "\n",
    "t = np.arange(0.0, 2.0, 0.1)\n",
    "v = 1 + np.sin(2 * np.pi * t)\n",
    "plt.plot(t, v)\n",
    "plt.grid()\n",
    "plt.xlabel('time')\n",
    "plt.ylabel('voltage')\n",
    "plt.savefig('figures/time-voltage.png')\n",
    "plt.show"
   ]
  },
  {
   "cell_type": "code",
   "execution_count": null,
   "metadata": {},
   "outputs": [],
   "source": []
  },
  {
   "cell_type": "code",
   "execution_count": null,
   "metadata": {},
   "outputs": [],
   "source": [
    "import pandas as pd\n",
    "import matplotlib.pyplot as plt\n",
    "import matplotlib.mlab as mlab\n",
    "\n",
    "df = pd.read_csv('Python Notebooks/DataFiles/income.csv')\n",
    "y= df.values[3]\n",
    "x = df.columns\n"
   ]
  },
  {
   "cell_type": "code",
   "execution_count": null,
   "metadata": {},
   "outputs": [],
   "source": [
    "years=[]\n",
    "for i in range (2,len(x)):\n",
    "    years.append(x[i])\n",
    "years\n",
    "income=[]\n",
    "for i in range(2,len(y)):\n",
    "    income.append(y[i])\n",
    "    \n",
    "plt.xlabel('years')\n",
    "plt.ylabel('income')\n",
    "plt.title('Income of Arizona')\n",
    "plt.plot(years,income)\n",
    "plt.grid()\n",
    "plt.show"
   ]
  },
  {
   "cell_type": "code",
   "execution_count": null,
   "metadata": {},
   "outputs": [],
   "source": [
    "width=1/2\n",
    "plt.bar(years,income,width,color='blue')\n",
    "plt.title('Income of Arizona')\n",
    "plt.xlabel('years')\n",
    "plt.ylabel('income')\n",
    "plt.savefig('figures/income of arizona.png')"
   ]
  },
  {
   "cell_type": "code",
   "execution_count": null,
   "metadata": {},
   "outputs": [],
   "source": []
  },
  {
   "cell_type": "code",
   "execution_count": null,
   "metadata": {},
   "outputs": [],
   "source": [
    "N = 50\n",
    "# Generate N Random Numbers\n",
    "import numpy as np\n",
    "x = np.random.rand(N)\n",
    "y = np.random.rand(N)\n",
    "colors = np.random.rand(N)\n",
    "area = np.pi * (15 * np.random.rand(50))**2\n",
    "plt.scatter(x,y,s=area,c=colors,alpha=0.2)\n",
    "plt.show()\n",
    "plt.savefig('figures/scatter.png')\n"
   ]
  },
  {
   "cell_type": "code",
   "execution_count": null,
   "metadata": {},
   "outputs": [],
   "source": []
  },
  {
   "cell_type": "code",
   "execution_count": null,
   "metadata": {
    "scrolled": true
   },
   "outputs": [],
   "source": [
    "import numpy as np\n",
    "import matplotlib.pyplot as plt\n",
    "import matplotlib.mlab as mlab\n",
    "import plotly.plotly as go\n",
    "labels = 'Frogs', 'Hogs', 'Dogs', 'Logs'\n",
    "sizes = [15, 35, 45, 10]\n",
    "explode = (0, 0.1, 0, 0)\n",
    "fig1, axl = plt.subplots()\n",
    "trace=go(axl.pie(sizes, explode=explode, labels=labels, shadow=True, startangle=90))\n",
    "axl.axis('equal')\n",
    "py.plotly(trace)\n",
    "plt.show()"
   ]
  },
  {
   "cell_type": "code",
   "execution_count": null,
   "metadata": {},
   "outputs": [],
   "source": []
  },
  {
   "cell_type": "markdown",
   "metadata": {},
   "source": [
    "### Problem 1:\n",
    "\n",
    "#### Problrm Statement :\n",
    "Using the Matplotlib library, generate a Pie Chart to categorise student marks data in a CSV file into Distinction, First Class, Second Class, Third Class and Failed Categories(based on percentages). Explode the Distinction category.\n",
    "1. Generate a CSV containing marks of 2000 students\n",
    "2. From the CSV, generate the Pie Chart\n",
    "\n",
    "#### Constraints:\n",
    "\n",
    "#### Test Cases:\n"
   ]
  },
  {
   "cell_type": "code",
   "execution_count": 1,
   "metadata": {},
   "outputs": [],
   "source": [
    "import pandas as pd\n",
    "import random\n",
    "def marksdata(filename,ro,n):\n",
    "    for i in range (0,n):\n",
    "        rd=random.randint(0,100)\n",
    "        df=pd.read_csv(filename)\n",
    "        ro=ro+1\n",
    "        df.loc[n]=ro,rd\n",
    "        df.to_csv(filename,index=False)\n",
    "    return df\n",
    "marksdata('DataFiles/marks1.csv',221710310000,2000)\n",
    "df=marksdata('DataFiles/marks1.csv',221710310000,2000)"
   ]
  },
  {
   "cell_type": "code",
   "execution_count": 2,
   "metadata": {},
   "outputs": [
    {
     "name": "stdout",
     "output_type": "stream",
     "text": [
      "201 198 172 793 0\n"
     ]
    }
   ],
   "source": [
    "import matplotlib.pyplot as plt\n",
    "import matplotlib.mlab as mlab\n",
    "k=df.values\n",
    "roll=[]\n",
    "mark=[]\n",
    "a=[]\n",
    "b=[]\n",
    "c=[]\n",
    "f=[]\n",
    "#h=0\n",
    "for i in range (0,len(k)):\n",
    "    x=df.values[i][0]\n",
    "    roll.append(x)\n",
    "for i in range (0,len(k)):\n",
    "    y=df.values[i][1]\n",
    "    mark.append(y)\n",
    "for i in range(0,len(mark)):\n",
    "    if(mark[i]>90):\n",
    "        x=df.values[i]\n",
    "        a.append(x)\n",
    "    elif mark[i]>80 and mark[i]<90:\n",
    "        x=df.values[i]\n",
    "        b.append(x)\n",
    "       # print(mark[i],i)\n",
    "    elif mark[i]>70 and mark[i]<80:\n",
    "        x=df.values[i]\n",
    "        c.append(x)  \n",
    "        #print(mark[i],i)\n",
    "    elif mark[i]>0 and mark[i]<40:\n",
    "        x=df.values[i]\n",
    "        f.append(x)\n",
    "        #print(i,mark[i])\n",
    "#print(len(a),len(b),len(c),len(f),h)"
   ]
  },
  {
   "cell_type": "code",
   "execution_count": 3,
   "metadata": {},
   "outputs": [
    {
     "data": {
      "image/png": "[encoded data removed]",
      "text/plain": [
       "<Figure size 432x288 with 1 Axes>"
      ]
     },
     "metadata": {},
     "output_type": "display_data"
    }
   ],
   "source": [
    "labels=['Grade A','Grade B','Grade C','Grade F']\n",
    "sizes=[len(a),len(b),len(c),len(f)]  \n",
    "explode=(0.1,0,0,0)\n",
    "\n",
    "fidl,axl=plt.subplots()\n",
    "axl.pie(sizes,explode=explode,labels=labels,shadow=True,startangle=90)\n",
    "axl.axis('equal')\n",
    "plt.show()"
   ]
  },
  {
   "cell_type": "code",
   "execution_count": 4,
   "metadata": {},
   "outputs": [
    {
     "data": {
      "text/plain": [
       "<function matplotlib.pyplot.show(*args, **kw)>"
      ]
     },
     "execution_count": 4,
     "metadata": {},
     "output_type": "execute_result"
    },
    {
     "data": {
      "image/png": "[encoded data removed]",
      "text/plain": [
       "<Figure size 432x288 with 1 Axes>"
      ]
     },
     "metadata": {
      "needs_background": "light"
     },
     "output_type": "display_data"
    }
   ],
   "source": [
    "w=1/5\n",
    "marks=[len(a),len(b),len(c),len(f)]\n",
    "roll=['A','B','C','F']\n",
    "plt.bar(roll,marks,w)\n",
    "plt.xlabel('Numbers of students')\n",
    "plt.ylabel('Grades')\n",
    "plt.title('Total')\n",
    "plt.show"
   ]
  },
  {
   "cell_type": "code",
   "execution_count": null,
   "metadata": {},
   "outputs": [],
   "source": []
  }
 ],
 "metadata": {
  "kernelspec": {
   "display_name": "Python 3",
   "language": "python",
   "name": "python3"
  },
  "language_info": {
   "codemirror_mode": {
    "name": "ipython",
    "version": 3
   },
   "file_extension": ".py",
   "mimetype": "text/x-python",
   "name": "python",
   "nbconvert_exporter": "python",
   "pygments_lexer": "ipython3",
   "version": "3.7.3"
  }
 },
 "nbformat": 4,
 "nbformat_minor": 2
}

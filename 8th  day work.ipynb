{
 "cells": [
  {
   "cell_type": "markdown",
   "metadata": {},
   "source": [
    "# Basic Problems\n",
    "\n",
    "## Day no - 6\n",
    "\n",
    "## Date - 9th May\n",
    "\n",
    "\n"
   ]
  },
  {
   "cell_type": "markdown",
   "metadata": {},
   "source": [
    "### Problem 1 :\n",
    "#### Problem Statement\n",
    "Greet\n",
    "\n",
    "### Constraints:\n",
    "\n",
    "### test cases:"
   ]
  },
  {
   "cell_type": "code",
   "execution_count": 1,
   "metadata": {
    "scrolled": false
   },
   "outputs": [
    {
     "name": "stdout",
     "output_type": "stream",
     "text": [
      "Good Morning\n"
     ]
    }
   ],
   "source": [
    "print(\"Good Morning\")"
   ]
  },
  {
   "cell_type": "code",
   "execution_count": null,
   "metadata": {},
   "outputs": [],
   "source": []
  },
  {
   "cell_type": "markdown",
   "metadata": {},
   "source": [
    "### Problem 2:\n",
    "#### Problem statement\n",
    " 2.Greet a Specific User\n",
    "### Constraints:\n",
    "\n",
    "### test cases:\n",
    "\n",
    "\n"
   ]
  },
  {
   "cell_type": "code",
   "execution_count": 2,
   "metadata": {},
   "outputs": [
    {
     "name": "stdout",
     "output_type": "stream",
     "text": [
      "Hi ssup? kalyan\n"
     ]
    }
   ],
   "source": [
    "print(\"Hi ssup? kalyan\")"
   ]
  },
  {
   "cell_type": "markdown",
   "metadata": {},
   "source": [
    "### Problem 3\n",
    "#### Problem statement\n",
    "Arithmetic Operations\n",
    "### Constraints:\n",
    "\n",
    "### test cases:\n"
   ]
  },
  {
   "cell_type": "code",
   "execution_count": 3,
   "metadata": {},
   "outputs": [
    {
     "data": {
      "text/plain": [
       "19434"
      ]
     },
     "execution_count": 3,
     "metadata": {},
     "output_type": "execute_result"
    }
   ],
   "source": [
    "a = 123\n",
    "b = 158\n",
    "c = (a * b)\n",
    "c"
   ]
  },
  {
   "cell_type": "code",
   "execution_count": 4,
   "metadata": {},
   "outputs": [
    {
     "data": {
      "text/plain": [
       "268"
      ]
     },
     "execution_count": 4,
     "metadata": {},
     "output_type": "execute_result"
    }
   ],
   "source": [
    "a = 123\n",
    "b = 145\n",
    "c = (a + b)\n",
    "c"
   ]
  },
  {
   "cell_type": "code",
   "execution_count": null,
   "metadata": {},
   "outputs": [],
   "source": []
  },
  {
   "cell_type": "code",
   "execution_count": 5,
   "metadata": {},
   "outputs": [
    {
     "data": {
      "text/plain": [
       "-22"
      ]
     },
     "execution_count": 5,
     "metadata": {},
     "output_type": "execute_result"
    }
   ],
   "source": [
    "c = (a - b)\n",
    "c"
   ]
  },
  {
   "cell_type": "code",
   "execution_count": 6,
   "metadata": {},
   "outputs": [
    {
     "data": {
      "text/plain": [
       "1087029070753258812353890053245939071990081698875844178719209215244783993212594850882248133632686678757908211108888930039380902978653020922700571115893321084608821551770616415582629252348153549527065569002479233500064310149659270618150551988085430998858261359481088045812551838855792031073848818513626043"
      ]
     },
     "execution_count": 6,
     "metadata": {},
     "output_type": "execute_result"
    }
   ],
   "source": [
    "c = (a ** b)\n",
    "c"
   ]
  },
  {
   "cell_type": "markdown",
   "metadata": {},
   "source": [
    "### Problem 4\n",
    "#### Problem statement:\n",
    "Trigonometric Functions\n",
    "\n",
    "### Constraints:\n",
    "\n",
    "### test cases:"
   ]
  },
  {
   "cell_type": "code",
   "execution_count": 7,
   "metadata": {
    "scrolled": true
   },
   "outputs": [
    {
     "ename": "NameError",
     "evalue": "name 'tan' is not defined",
     "output_type": "error",
     "traceback": [
      "\u001b[1;31m---------------------------------------------------------------------------\u001b[0m",
      "\u001b[1;31mNameError\u001b[0m                                 Traceback (most recent call last)",
      "\u001b[1;32m<ipython-input-7-af3ec20a33e3>\u001b[0m in \u001b[0;36m<module>\u001b[1;34m\u001b[0m\n\u001b[0;32m      1\u001b[0m \u001b[0mo\u001b[0m \u001b[1;33m=\u001b[0m \u001b[1;36m0\u001b[0m\u001b[1;33m\u001b[0m\u001b[1;33m\u001b[0m\u001b[0m\n\u001b[1;32m----> 2\u001b[1;33m \u001b[0ma\u001b[0m \u001b[1;33m=\u001b[0m \u001b[0mtan\u001b[0m\u001b[1;33m(\u001b[0m\u001b[0mo\u001b[0m\u001b[1;33m)\u001b[0m\u001b[1;33m\u001b[0m\u001b[1;33m\u001b[0m\u001b[0m\n\u001b[0m\u001b[0;32m      3\u001b[0m \u001b[0ma\u001b[0m\u001b[1;33m\u001b[0m\u001b[1;33m\u001b[0m\u001b[0m\n",
      "\u001b[1;31mNameError\u001b[0m: name 'tan' is not defined"
     ]
    }
   ],
   "source": [
    "o = 0\n",
    "a = tan(o)\n",
    "a"
   ]
  },
  {
   "cell_type": "markdown",
   "metadata": {},
   "source": []
  },
  {
   "cell_type": "code",
   "execution_count": null,
   "metadata": {},
   "outputs": [],
   "source": []
  },
  {
   "cell_type": "markdown",
   "metadata": {},
   "source": [
    "### Problem 5\n",
    "#### Problem statement:\n",
    "Determining whether a number is Even or Odd\n",
    "\n",
    "### Constraints:\n",
    "\n",
    "### test cases:"
   ]
  },
  {
   "cell_type": "code",
   "execution_count": null,
   "metadata": {},
   "outputs": [],
   "source": [
    "def even(x):\n",
    "    if(x % 2 == 0):\n",
    "        print(\"x is even\")\n",
    "    else: \n",
    "        print(\"x is odd\")\n",
    "even(9)"
   ]
  },
  {
   "cell_type": "markdown",
   "metadata": {},
   "source": [
    "### Problem 6:\n",
    "#### Problem Statement\n",
    "Design a python function to evaluate the polynomial\n",
    "### Constraints\n",
    "f(x)= x^3 + 2 X^2 + 3 X - 10 for x in the range [1, 1000]\n",
    "### test cases:"
   ]
  },
  {
   "cell_type": "code",
   "execution_count": null,
   "metadata": {},
   "outputs": [],
   "source": [
    "def function(x):\n",
    "    function = x ** 3 + 2 * (x ** 2) + 3 * x - 10\n",
    "    if(1<x<1000):\n",
    "        print(function)\n",
    "    else:\n",
    "         print(\"x is not in region\")\n",
    "\n",
    "function(3)        \n"
   ]
  },
  {
   "cell_type": "markdown",
   "metadata": {},
   "source": [
    "### Problem 7:\n",
    "#### Problem Statement\n",
    "Given 2 ints, a and b, return True if one if them is 10 or if their sum is 10\n",
    "### Constraints:\n",
    "\n",
    "### test cases:\n",
    "* makes10(9, 10) → True\n",
    "* makes10(9, 9) → False\n",
    "* makes10(1, 9) → True"
   ]
  },
  {
   "cell_type": "code",
   "execution_count": 46,
   "metadata": {},
   "outputs": [
    {
     "data": {
      "text/plain": [
       "False"
      ]
     },
     "execution_count": 46,
     "metadata": {},
     "output_type": "execute_result"
    }
   ],
   "source": [
    "def two_integers(n1, n2):\n",
    "    if(n1 == 10 or n2 == 10):\n",
    "        return True\n",
    "    elif(n1 + n2 == 10):\n",
    "        return True\n",
    "    else:\n",
    "        return False\n",
    "two_integers(30, 20)"
   ]
  },
  {
   "cell_type": "code",
   "execution_count": null,
   "metadata": {},
   "outputs": [],
   "source": []
  },
  {
   "cell_type": "markdown",
   "metadata": {},
   "source": [
    "### Problem 8 :\n",
    "#### Problem Statement\n",
    "Given 2 int values, return True if one is negative and one is positive. Except if the parameter \"negative\" is True, then return True only if both are negative.\n",
    "\n",
    "### Constraints:\n",
    "\n",
    "### test cases:\n",
    "* pos_neg(1, -1, False) → True\n",
    "* pos_neg(-1, 1, False) → True\n",
    "* pos_neg(-4, -5, True) → True"
   ]
  },
  {
   "cell_type": "code",
   "execution_count": 47,
   "metadata": {},
   "outputs": [
    {
     "data": {
      "text/plain": [
       "True"
      ]
     },
     "execution_count": 47,
     "metadata": {},
     "output_type": "execute_result"
    }
   ],
   "source": [
    "def pos_neg(n1, n2, b):\n",
    "    if((n1 < 0 and n2 > 0) or (n1 > 0 and n2 < 0) and b == False):\n",
    "        return True\n",
    "    elif(n1<o and n2<0 and b == True):\n",
    "        return True\n",
    "    else:\n",
    "        return False\n",
    "pos_neg(1, -2, True)\n",
    "pos_neg(-1, -2, True)\n",
    "pos_neg(-1, -2, False)\n",
    "pos_neg(-1, 1, False)"
   ]
  },
  {
   "cell_type": "code",
   "execution_count": null,
   "metadata": {},
   "outputs": [],
   "source": []
  },
  {
   "cell_type": "markdown",
   "metadata": {},
   "source": [
    "### Problem 9:\n",
    "#### Problem statement\n",
    "Create a Random Number Generator  which takes the Range(lb, ub) and returns a Random number in the given range\n",
    "\n",
    "### Constraints:\n",
    "\n",
    "### test cases:\n"
   ]
  },
  {
   "cell_type": "code",
   "execution_count": 8,
   "metadata": {},
   "outputs": [
    {
     "data": {
      "text/plain": [
       "9"
      ]
     },
     "execution_count": 8,
     "metadata": {},
     "output_type": "execute_result"
    }
   ],
   "source": [
    "import random \n",
    "\n",
    "def randomgenerator(lb, ub):\n",
    "    return random.randrange(lb+1, ub)\n",
    "\n",
    "randomgenerator(1, 101)"
   ]
  },
  {
   "cell_type": "code",
   "execution_count": null,
   "metadata": {},
   "outputs": [],
   "source": []
  },
  {
   "cell_type": "markdown",
   "metadata": {},
   "source": [
    "### Problem 10 :\n",
    "### Problem Statement\n",
    "Given an Intger N, Calculate the sum of N random numbers and numbers \n",
    "\n",
    "### Constraints\n",
    "\n",
    "### Test Cases\n"
   ]
  },
  {
   "cell_type": "code",
   "execution_count": 102,
   "metadata": {},
   "outputs": [
    {
     "data": {
      "text/plain": [
       "46416280942170110"
      ]
     },
     "execution_count": 102,
     "metadata": {},
     "output_type": "execute_result"
    }
   ],
   "source": [
    "import random \n",
    "\n",
    "def sumrandomnumbers(n, lb, ub):\n",
    "    sum = 0\n",
    "    for count in range(1, n+1):\n",
    "        sum = sum + random.randint(lb, ub)\n",
    "    return sum\n",
    "\n",
    "sumrandomnumbers(100, 10, 1000000000000000)"
   ]
  },
  {
   "cell_type": "code",
   "execution_count": null,
   "metadata": {},
   "outputs": [],
   "source": []
  },
  {
   "cell_type": "markdown",
   "metadata": {},
   "source": [
    "### Problem 11 :\n",
    "### Problem Statement\n",
    "Finding the greatest of 3 numbers\n",
    "\n",
    "### Constraints\n",
    "\n",
    "### Test Cases\n"
   ]
  },
  {
   "cell_type": "code",
   "execution_count": 9,
   "metadata": {},
   "outputs": [
    {
     "name": "stdout",
     "output_type": "stream",
     "text": [
      "n3 is greater\n"
     ]
    }
   ],
   "source": [
    "def gretest_of_three_numbers(n1, n2, n3):\n",
    "    if(n1 > n2 and n1 > n3):\n",
    "        print(\"n1 is greater\")\n",
    "    elif(n2 > n1 and n2 > n3):\n",
    "        print(\"n2 is greater\")\n",
    "    elif(n3 > n1 and n3 > n2):\n",
    "        print(\"n3 is greater\")\n",
    "gretest_of_three_numbers(50, 54, 56)        "
   ]
  },
  {
   "cell_type": "code",
   "execution_count": null,
   "metadata": {},
   "outputs": [],
   "source": []
  },
  {
   "cell_type": "markdown",
   "metadata": {},
   "source": [
    "### Problem 12 :\n",
    "#### Problem Statement\n",
    "Design a procedure to perform Linear search on list of N unsorted numbers. It take an array and the key element to be searched and returns the index of the element of key element if found. Else returns -1 \n",
    "\n",
    "### Constraints:\n",
    "\n",
    "### Test cases:\n",
    "* LinearSearch([1,4,8,0,3,5,6],3)->4\n",
    "* LinearSearch([15,9,6,3,-3],0)->-1\n",
    "* linearsearch([321,543,567,789],567)->2"
   ]
  },
  {
   "cell_type": "code",
   "execution_count": null,
   "metadata": {},
   "outputs": [],
   "source": [
    "def linearsearch(a, key):\n",
    "    for i in range(0, len(a)):\n",
    "        if(a[i] == key):\n",
    "            return i\n",
    "    return -1\n",
    "print(linearsearch([15, 12, 9, 6, 3, -3], 0))\n",
    "print(linearsearch([132, 543, 567, 789], 567))"
   ]
  },
  {
   "cell_type": "code",
   "execution_count": null,
   "metadata": {},
   "outputs": [],
   "source": []
  },
  {
   "cell_type": "markdown",
   "metadata": {},
   "source": [
    "### Problem 13:\n",
    "#### Problem Statement\n",
    "Given an int n, return True if it is within 10 of 100 or 200. Note: abs(num) computes the absolute value of a number.\n",
    "\n",
    "### Constraints:\n",
    "\n",
    "### Test cases:\n",
    "* near_hundred(93) → True\n",
    "* near_hundred(90) → True\n",
    "* near_hundred(89) → False"
   ]
  },
  {
   "cell_type": "code",
   "execution_count": null,
   "metadata": {},
   "outputs": [],
   "source": [
    "def integer(n):\n",
    "    if (89 <= n < 100 or 190 <= n < 200):\n",
    "        return True\n",
    "    else:\n",
    "        return False\n",
    "integer(88)"
   ]
  },
  {
   "cell_type": "code",
   "execution_count": null,
   "metadata": {},
   "outputs": [],
   "source": []
  },
  {
   "cell_type": "markdown",
   "metadata": {},
   "source": [
    "### Problem 14:\n",
    "#### Problem Statement\n",
    "Print N natural numbers.\n",
    "\n",
    "### Constraints:\n",
    "\n",
    "### Test cases:"
   ]
  },
  {
   "cell_type": "code",
   "execution_count": 16,
   "metadata": {},
   "outputs": [
    {
     "name": "stdout",
     "output_type": "stream",
     "text": [
      "1\n",
      "2\n",
      "3\n",
      "4\n",
      "5\n",
      "6\n",
      "7\n",
      "8\n",
      "9\n",
      "10\n",
      "11\n",
      "12\n"
     ]
    }
   ],
   "source": [
    "def naturalnumbers(n):\n",
    "    for i in range(1,n+1):\n",
    "        print(i)\n",
    "naturalnumbers(12)    "
   ]
  },
  {
   "cell_type": "code",
   "execution_count": null,
   "metadata": {},
   "outputs": [],
   "source": []
  },
  {
   "cell_type": "markdown",
   "metadata": {},
   "source": [
    "### Problem 15:\n",
    "#### Problem Statement\n",
    "calculate the factorial of a given number\n",
    "\n",
    "### Constraints:\n",
    "\n",
    "### Test cases:"
   ]
  },
  {
   "cell_type": "code",
   "execution_count": 45,
   "metadata": {},
   "outputs": [
    {
     "name": "stdout",
     "output_type": "stream",
     "text": [
      "2\n"
     ]
    }
   ],
   "source": [
    "def factorial(n):\n",
    "    fac=1\n",
    "    for i in range(1,n+1):\n",
    "        fac= fac*i\n",
    "    return fac\n",
    "print(factorial(2))"
   ]
  },
  {
   "cell_type": "code",
   "execution_count": null,
   "metadata": {},
   "outputs": [],
   "source": []
  },
  {
   "cell_type": "markdown",
   "metadata": {},
   "source": [
    "### Problem 16:\n",
    "#### Problem Statement\n",
    "Design a procedure to determine if a given string is a Palindrome\n",
    "\n",
    "### Constraints:\n",
    "\n",
    "### Test cases:\n",
    "* Palindrome(\"racecar\") -> True\n",
    "* Palindrome(\"raptor\") -> False"
   ]
  },
  {
   "cell_type": "code",
   "execution_count": 53,
   "metadata": {},
   "outputs": [
    {
     "data": {
      "text/plain": [
       "False"
      ]
     },
     "execution_count": 53,
     "metadata": {},
     "output_type": "execute_result"
    }
   ],
   "source": [
    "def palindrome(s):\n",
    "    rs = s[-1::-1]\n",
    "    if(s == rs):\n",
    "        return True\n",
    "    return False\n",
    "palindrome('car')"
   ]
  },
  {
   "cell_type": "code",
   "execution_count": null,
   "metadata": {},
   "outputs": [],
   "source": []
  },
  {
   "cell_type": "markdown",
   "metadata": {},
   "source": [
    "### Problem 17:\n",
    "#### Problem Statement\n",
    "check if a given number is Prime and returns a Boolean value.\n",
    "\n",
    "### Constraints:\n",
    "\n",
    "### Test cases:\n",
    "* IsPrime(7) -> True\n",
    "\n",
    "* IsPrime(9) ->  False\n",
    "\n"
   ]
  },
  {
   "cell_type": "code",
   "execution_count": 10,
   "metadata": {},
   "outputs": [
    {
     "name": "stdout",
     "output_type": "stream",
     "text": [
      "True\n",
      "False\n"
     ]
    }
   ],
   "source": [
    "def primenumber(n):\n",
    "    p=0\n",
    "    for i in range(1,n+1):\n",
    "        m=n%i\n",
    "        if(m==0):\n",
    "            p=p+1\n",
    "    if(p==2):\n",
    "            return True\n",
    "    else:\n",
    "            return False\n",
    "print(primenumber(5))\n",
    "print(primenumber(6))"
   ]
  },
  {
   "cell_type": "code",
   "execution_count": null,
   "metadata": {},
   "outputs": [],
   "source": []
  },
  {
   "cell_type": "markdown",
   "metadata": {},
   "source": [
    "### Problem 18:\n",
    "#### Problem Statement\n",
    "To generate multiplication tables. \n",
    "\n",
    "### Constraints:\n",
    "\n",
    "### Test cases:\n",
    "* MT(3, 5, 7) -> 3 X 5 = 15\n",
    "\n",
    "                 3 X 6 = 18\n",
    "\n",
    "                 3 X 7 = 21"
   ]
  },
  {
   "cell_type": "code",
   "execution_count": 105,
   "metadata": {},
   "outputs": [
    {
     "name": "stdout",
     "output_type": "stream",
     "text": [
      "15\n",
      "18\n",
      "21\n"
     ]
    }
   ],
   "source": [
    "def multiplicationtables(n, lb, ub):\n",
    "    product = 1\n",
    "    for i in range(lb, ub+1):\n",
    "        product=n*i\n",
    "        print(product)\n",
    "\n",
    "multiplicationtables(3, 5, 7)"
   ]
  },
  {
   "cell_type": "markdown",
   "metadata": {},
   "source": [
    "### Problem 19:\n",
    "#### Problem Statement:\n",
    "To generate multiplication tables.\n",
    "\n",
    "#### Constraints:\n",
    "\n",
    "#### Test cases:\n",
    "        FactorList(6)  ->  1 2 3 6\n",
    "\n",
    "        FactorList (9) ->   1 3 9\n",
    "\n",
    "        FactorList (19) ->  1  19"
   ]
  },
  {
   "cell_type": "code",
   "execution_count": 109,
   "metadata": {},
   "outputs": [
    {
     "name": "stdout",
     "output_type": "stream",
     "text": [
      "1\n",
      "3\n",
      "9\n"
     ]
    }
   ],
   "source": [
    "def factors(n):\n",
    "    factors = 1\n",
    "    for i in range(1, n+1):\n",
    "        if(n % i == 0):\n",
    "            print(i)\n",
    "factors(9)"
   ]
  },
  {
   "cell_type": "code",
   "execution_count": null,
   "metadata": {},
   "outputs": [],
   "source": []
  },
  {
   "cell_type": "markdown",
   "metadata": {},
   "source": [
    "### Problem 20:\n",
    "#### Problem Statement:\n",
    "To count the number of digits in a given number.\n",
    "\n",
    "#### Constraints:\n",
    "\n",
    "#### Test cases:\n",
    "          CountDigits(123456) ->  6\n",
    "\n",
    "          CountDigits (0) ->  1"
   ]
  },
  {
   "cell_type": "code",
   "execution_count": 7,
   "metadata": {},
   "outputs": [
    {
     "data": {
      "text/plain": [
       "7"
      ]
     },
     "execution_count": 7,
     "metadata": {},
     "output_type": "execute_result"
    }
   ],
   "source": [
    "def count(n):\n",
    "    count=0\n",
    "    if(n==0):\n",
    "        return 1\n",
    "    while(n>0):\n",
    "        count=count+1\n",
    "        n=int(n/10)\n",
    "    return count\n",
    "count(1235498)"
   ]
  },
  {
   "cell_type": "code",
   "execution_count": null,
   "metadata": {},
   "outputs": [],
   "source": []
  },
  {
   "cell_type": "markdown",
   "metadata": {},
   "source": [
    "### Problem 21:\n",
    "#### Problem Statement:\n",
    "to check if a given number is a Perfect Number. ( Perfect number is a number for which the sum of all it's divisors is equal to the number itself)\n",
    "\n",
    "#### Constraints:\n",
    "\n",
    "#### Test cases:\n",
    "* IsPerfect(3) -> False\n",
    "\n",
    "* IsPerfect (6) -> True\n",
    "\n"
   ]
  },
  {
   "cell_type": "code",
   "execution_count": 23,
   "metadata": {},
   "outputs": [
    {
     "name": "stdout",
     "output_type": "stream",
     "text": [
      "the number is perfect number\n"
     ]
    }
   ],
   "source": [
    "def per(n):\n",
    "    sum=0\n",
    "    for i in range(1, n):\n",
    "            m=n%i\n",
    "            if(m==0):\n",
    "                sum=sum+i\n",
    "    if(sum == n):\n",
    "        print(\"the number is perfect number\")\n",
    "    else:\n",
    "        print(\"the number is not a perfect number\")\n",
    "\n",
    "per(28)\n",
    "    \n",
    "    "
   ]
  },
  {
   "cell_type": "code",
   "execution_count": null,
   "metadata": {},
   "outputs": [],
   "source": []
  }
 ],
 "metadata": {
  "kernelspec": {
   "display_name": "Python 3",
   "language": "python",
   "name": "python3"
  },
  "language_info": {
   "codemirror_mode": {
    "name": "ipython",
    "version": 3
   },
   "file_extension": ".py",
   "mimetype": "text/x-python",
   "name": "python",
   "nbconvert_exporter": "python",
   "pygments_lexer": "ipython3",
   "version": "3.7.3"
  }
 },
 "nbformat": 4,
 "nbformat_minor": 2
}

{
 "cells": [
  {
   "cell_type": "markdown",
   "metadata": {},
   "source": [
    "## Problem Solving and Programming\n",
    "\n",
    "### Problem Statement\n",
    "\n"
   ]
  },
  {
   "cell_type": "code",
   "execution_count": 6,
   "metadata": {},
   "outputs": [
    {
     "data": {
      "text/plain": [
       "2"
      ]
     },
     "execution_count": 6,
     "metadata": {},
     "output_type": "execute_result"
    }
   ],
   "source": [
    "def binarysearch(array, leftindex, rightindex, taritem):\n",
    "    while(leftindex <= rightindex):\n",
    "        midindex = leftindex + (rightindex - leftindex) // 2\n",
    "        if(array[midindex] == taritem):\n",
    "            return midindex\n",
    "        if(array[midindex] > taritem):\n",
    "            rightindex = midindex - 1\n",
    "        else:\n",
    "            leftindex = midindex + 1\n",
    "            \n",
    "    \n",
    "    return -1\n",
    "array = [1, 12, 25, 45, 57, 99]\n",
    "binarysearch(array,0,5,25)\n"
   ]
  },
  {
   "cell_type": "code",
   "execution_count": null,
   "metadata": {},
   "outputs": [],
   "source": []
  }
 ],
 "metadata": {
  "kernelspec": {
   "display_name": "Python 3",
   "language": "python",
   "name": "python3"
  },
  "language_info": {
   "codemirror_mode": {
    "name": "ipython",
    "version": 3
   },
   "file_extension": ".py",
   "mimetype": "text/x-python",
   "name": "python",
   "nbconvert_exporter": "python",
   "pygments_lexer": "ipython3",
   "version": "3.7.3"
  }
 },
 "nbformat": 4,
 "nbformat_minor": 2
}

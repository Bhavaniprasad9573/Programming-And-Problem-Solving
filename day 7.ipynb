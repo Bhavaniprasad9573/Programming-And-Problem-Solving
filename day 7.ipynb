{
 "cells": [
  {
   "cell_type": "markdown",
   "metadata": {},
   "source": [
    "### Problem :\n",
    "#### Problem Statement:\n",
    "Power of a number using recursion\n",
    "\n",
    "#### Constraints:\n",
    "\n",
    "#### Test cases:"
   ]
  },
  {
   "cell_type": "code",
   "execution_count": 6,
   "metadata": {},
   "outputs": [
    {
     "name": "stdout",
     "output_type": "stream",
     "text": [
      "8\n",
      "6561\n"
     ]
    }
   ],
   "source": [
    "def power(n, m):\n",
    "    if m == 1:\n",
    "           return n\n",
    "    else:\n",
    "        return power(n, m-1) * n\n",
    "print(power(2, 3))\n",
    "print(power(3, 8))"
   ]
  },
  {
   "cell_type": "code",
   "execution_count": null,
   "metadata": {},
   "outputs": [],
   "source": []
  },
  {
   "cell_type": "markdown",
   "metadata": {},
   "source": [
    "### Problem :\n",
    "#### Problem Statement:\n",
    "Calculate the maximum, minimum and average of a given numbers\n",
    "\n",
    "#### Constraints:\n",
    "\n",
    "#### Test cases:"
   ]
  },
  {
   "cell_type": "code",
   "execution_count": 8,
   "metadata": {},
   "outputs": [
    {
     "name": "stdout",
     "output_type": "stream",
     "text": [
      "max is: 6\n",
      "min is: 1\n",
      "3.5\n"
     ]
    }
   ],
   "source": [
    "a = [1,2,3,4,5,6]\n",
    "print('max is:',max(a))\n",
    "print('min is:',min(a))\n",
    "print(sum(a)/len(a))"
   ]
  },
  {
   "cell_type": "code",
   "execution_count": null,
   "metadata": {},
   "outputs": [],
   "source": []
  },
  {
   "cell_type": "markdown",
   "metadata": {},
   "source": [
    "### Problem :\n",
    "#### Problem Statement:\n",
    "Perform Linear search on list of N unsorted unique numbers. It take an array and the key element to be searched and returns the index of the element of key element if found. Else returns -1\n",
    "\n",
    "#### Constraints:\n",
    "\n",
    "#### Test cases:\n",
    "* LinearSearch( a[5,4,3,2,1], 4) -> 2\n",
    "* LinearSearch( a[90, 123, 324, 21, 56], 22) -> -1"
   ]
  },
  {
   "cell_type": "code",
   "execution_count": 10,
   "metadata": {},
   "outputs": [
    {
     "name": "stdout",
     "output_type": "stream",
     "text": [
      "0\n",
      "3\n"
     ]
    }
   ],
   "source": [
    "b=[5,4,3,2,1]\n",
    "d=[90,123,324,21,56]\n",
    "i = b.index(5)\n",
    "ii = d.index(21)\n",
    "print(i)\n",
    "print(ii)"
   ]
  },
  {
   "cell_type": "code",
   "execution_count": null,
   "metadata": {},
   "outputs": [],
   "source": []
  },
  {
   "cell_type": "markdown",
   "metadata": {},
   "source": [
    "### Problem :\n",
    "#### Problem Statement:\n",
    "Calculate the square rootof a given number\n",
    "\n",
    "\n",
    "#### Constraints:\n",
    "\n",
    "#### Test cases:\n",
    "squareroot(36) -> 6"
   ]
  },
  {
   "cell_type": "code",
   "execution_count": 13,
   "metadata": {},
   "outputs": [
    {
     "name": "stdout",
     "output_type": "stream",
     "text": [
      "3.1622776601683795\n",
      "6.0\n",
      "1.4142135623730951\n"
     ]
    }
   ],
   "source": [
    "def squareroot(n):\n",
    "    s=n**(1/2)\n",
    "    print(s)\n",
    "squareroot(10)\n",
    "squareroot(36)\n",
    "squareroot(2)"
   ]
  },
  {
   "cell_type": "code",
   "execution_count": null,
   "metadata": {},
   "outputs": [],
   "source": []
  },
  {
   "cell_type": "markdown",
   "metadata": {},
   "source": [
    "### Problem :\n",
    "#### Problem Statement:\n",
    "Determine the frequency count of numbers in a given list\n",
    "\n",
    "\n",
    "#### Constraints:\n",
    "\n",
    "#### Test cases:\n",
    "* Frequency( a[1,3,2,1] ) -> 1 : 2, 2 : 1, 3 : 1"
   ]
  },
  {
   "cell_type": "code",
   "execution_count": 14,
   "metadata": {},
   "outputs": [
    {
     "name": "stdout",
     "output_type": "stream",
     "text": [
      "1 3\n",
      "2 2\n",
      "3 2\n",
      "5 1\n",
      "8 2\n"
     ]
    }
   ],
   "source": [
    "def frequency(a):\n",
    "    b = []\n",
    "    for x in a:\n",
    "        if x not in b: \n",
    "            b.append(x) \n",
    "    c=0\n",
    "    for i in range(0,len(b)):\n",
    "        for j in range(0,len(a)):\n",
    "            if(b[i]==a[j]):\n",
    "                c=c+1\n",
    "        print(b[i],c)\n",
    "        c=0   \n",
    "a=[1,2,3,2,1,3,5,1,8,8]\n",
    "frequency(a)"
   ]
  },
  {
   "cell_type": "code",
   "execution_count": null,
   "metadata": {},
   "outputs": [],
   "source": []
  },
  {
   "cell_type": "markdown",
   "metadata": {},
   "source": [
    "### Problem :\n",
    "#### Problem Statement:\n",
    "Design a procedure to sort a given array in ascending order\n",
    "\n",
    "\n",
    "#### Constraints:\n",
    "\n",
    "#### Test cases:\n",
    "* sort([3, 2, 1, 4, 4, 5, 6]) -> [1, 2, 3, 4, 4, 5, 6]\n",
    "* sort([1, 2, 3]) -> [1, 2, 3]"
   ]
  },
  {
   "cell_type": "code",
   "execution_count": 21,
   "metadata": {},
   "outputs": [
    {
     "name": "stdout",
     "output_type": "stream",
     "text": [
      "[1, 2, 3, 4]\n"
     ]
    }
   ],
   "source": [
    "numbers = [1, 3, 4, 2] \n",
    "\n",
    "numbers.sort() \n",
    "  \n",
    "print(numbers)"
   ]
  },
  {
   "cell_type": "code",
   "execution_count": null,
   "metadata": {},
   "outputs": [],
   "source": []
  },
  {
   "cell_type": "markdown",
   "metadata": {},
   "source": [
    "### Problem :\n",
    "#### Problem Statement:\n",
    "Identify all unique elements in an array\n",
    "\n",
    "#### Constraints:\n",
    "\n",
    "#### Test cases:\n",
    "* unique([1, 2, 3, 4, 3, 2, 1, 0, 0]) -> [1, 2, 3, 4, 0]\n",
    "* unique([9]) -> [9]"
   ]
  },
  {
   "cell_type": "code",
   "execution_count": 23,
   "metadata": {},
   "outputs": [
    {
     "name": "stdout",
     "output_type": "stream",
     "text": [
      "1\n",
      "5\n",
      "8\n",
      "4\n",
      "3\n"
     ]
    }
   ],
   "source": [
    "def n(a):\n",
    "    b = []\n",
    "    for x in a:\n",
    "        if x not in b: \n",
    "            b.append(x) \n",
    "    for x in b:\n",
    "        print(x)\n",
    "a= [1, 5, 5, 8, 8, 4, 4, 3, 3]\n",
    "n(a)"
   ]
  },
  {
   "cell_type": "code",
   "execution_count": null,
   "metadata": {},
   "outputs": [],
   "source": []
  },
  {
   "cell_type": "markdown",
   "metadata": {},
   "source": [
    "### Problem :\n",
    "#### Problem Statement:\n",
    "Factorial of a given number\n",
    "\n",
    "#### Constraints:\n",
    "\n",
    "#### Test cases:\n",
    "* Factorial(5) ->120\n",
    "* Factorial(2) ->2"
   ]
  },
  {
   "cell_type": "code",
   "execution_count": 28,
   "metadata": {},
   "outputs": [
    {
     "name": "stdout",
     "output_type": "stream",
     "text": [
      "120\n",
      "2\n"
     ]
    }
   ],
   "source": [
    "def factorial(a):\n",
    "    if a==1:\n",
    "        return a\n",
    "    else:\n",
    "        return factorial(a-1)*a\n",
    "print(factorial(5))\n",
    "print(factorial(2))"
   ]
  },
  {
   "cell_type": "code",
   "execution_count": null,
   "metadata": {},
   "outputs": [],
   "source": []
  },
  {
   "cell_type": "markdown",
   "metadata": {},
   "source": [
    "### Problem :\n",
    "#### Problem Statement:\n",
    "Define a function to identity the number of times a substring is repeating in a given string\n",
    "\n",
    "#### Constraints:\n",
    "\n",
    "#### Test cases:\n",
    "* substringCount('str', 'substr') -> 1\n",
    "* substringCount('1234567891122334455', '3') -> 3\n",
    "* substringCount('abccddccc', 'cc') -> 3"
   ]
  },
  {
   "cell_type": "code",
   "execution_count": 32,
   "metadata": {},
   "outputs": [
    {
     "ename": "IndentationError",
     "evalue": "expected an indented block (<ipython-input-32-38ac5afea3d6>, line 5)",
     "output_type": "error",
     "traceback": [
      "\u001b[1;36m  File \u001b[1;32m\"<ipython-input-32-38ac5afea3d6>\"\u001b[1;36m, line \u001b[1;32m5\u001b[0m\n\u001b[1;33m    n('113411789','11')\u001b[0m\n\u001b[1;37m                       ^\u001b[0m\n\u001b[1;31mIndentationError\u001b[0m\u001b[1;31m:\u001b[0m expected an indented block\n"
     ]
    }
   ],
   "source": [
    "def n(a,b):\n",
    "    for i in range (0,len(a),len(b)):\n",
    "        \n",
    "        if(i,i+len(b)):\n",
    "n('113411789','11')"
   ]
  },
  {
   "cell_type": "code",
   "execution_count": null,
   "metadata": {},
   "outputs": [],
   "source": []
  },
  {
   "cell_type": "markdown",
   "metadata": {},
   "source": [
    "### Problem :\n",
    "#### Problem Statement:\n",
    "Towers of hanoi\n",
    "\n",
    "#### Constraints:\n",
    "\n",
    "#### Test cases:"
   ]
  },
  {
   "cell_type": "code",
   "execution_count": 33,
   "metadata": {},
   "outputs": [
    {
     "name": "stdout",
     "output_type": "stream",
     "text": [
      "move 1 disk from a to c\n",
      "move 2 disk from a to b\n",
      "move 1 disk from c to b\n",
      "move 3 disk from a to c\n",
      "move 1 disk from b to a\n",
      "move 2 disk from b to c\n",
      "move 1 disk from a to c\n"
     ]
    }
   ],
   "source": [
    "def toh(n,s,t,d):\n",
    "    \n",
    "    if(n==1):\n",
    "        print('move',n,'disk from',s,'to',d)\n",
    "        return\n",
    "    else:\n",
    "        toh(n-1,s,d,t)\n",
    "        print('move',n,'disk from',s,'to',d)\n",
    "        toh(n-1,t,s,d)\n",
    "        return\n",
    "    \n",
    "toh(3,'a','b','c')"
   ]
  },
  {
   "cell_type": "code",
   "execution_count": null,
   "metadata": {},
   "outputs": [],
   "source": []
  }
 ],
 "metadata": {
  "kernelspec": {
   "display_name": "Python 3",
   "language": "python",
   "name": "python3"
  },
  "language_info": {
   "codemirror_mode": {
    "name": "ipython",
    "version": 3
   },
   "file_extension": ".py",
   "mimetype": "text/x-python",
   "name": "python",
   "nbconvert_exporter": "python",
   "pygments_lexer": "ipython3",
   "version": "3.7.3"
  }
 },
 "nbformat": 4,
 "nbformat_minor": 2
}

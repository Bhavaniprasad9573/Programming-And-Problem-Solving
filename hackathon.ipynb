{
 "cells": [
  {
   "cell_type": "markdown",
   "metadata": {},
   "source": [
    "### Problem 1:-\n",
    "#### Problem Staments\n",
    "For a given integer N, find the total number of Non - Prime Factors in the range (1, N) (both exclusive) that do not contain the digit 0\n",
    "\n",
    "#### Test Cases:-\n",
    "* nonPrimeFactorsCount( 100 ) -> 2\n",
    "* nonPrimeFactorsCount( 50 ) -> 1\n"
   ]
  },
  {
   "cell_type": "code",
   "execution_count": 1,
   "metadata": {},
   "outputs": [
    {
     "name": "stdout",
     "output_type": "stream",
     "text": [
      "non prime numbers:- [6, 12, 15, 334, 668, 835]\n"
     ]
    }
   ],
   "source": [
    "def num(n):\n",
    "    a=[]\n",
    "    for i in range (1,n):\n",
    "        if(n%i==0):\n",
    "            a.append(i)\n",
    "    b=[]\n",
    "    for i in range(1,len(a)):\n",
    "        \n",
    "        sum=0\n",
    "        for j in range(1,a[i]+1):\n",
    "            if(a[i]%j==0):\n",
    "                sum=sum+1\n",
    "        if(sum!=2):\n",
    "            if(a[i]%10!=0):\n",
    "                b.append(a[i])\n",
    "    c=[]\n",
    "    for j in range (1,len(b)):\n",
    "        if(b[j] in range(0,99) and b[j]!=0 ):\n",
    "            c.append(b[j])\n",
    "    for i in range(0,len(b)):\n",
    "        sum=1\n",
    "        if(b[i]>111):\n",
    "            k=b[i]\n",
    "            for j in range(1,len(str(b[i]))):\n",
    "                \n",
    "                l=k%10\n",
    "                if(l==0):\n",
    "                    break\n",
    "                else:\n",
    "                    sum=sum+1\n",
    "                k=k//10\n",
    "            if(sum==len(str(b[i]))):\n",
    "                c.append(b[i])\n",
    "    print(\"non prime numbers:-\",c)\n",
    "num(10020)"
   ]
  },
  {
   "cell_type": "code",
   "execution_count": null,
   "metadata": {},
   "outputs": [],
   "source": []
  },
  {
   "cell_type": "markdown",
   "metadata": {},
   "source": [
    "### Problem 2:\n",
    "#### Problem Statement:\n",
    "For a given integer N. Find the least positive integer X made up of only 9's and 0's, such that, X is a multiple of N. X is made up of one or more occurrences of 9 and zero or more occurrences of 0.\n",
    "\n",
    "#### Constraints:\n",
    "\n",
    "#### Test cases:\n",
    "* Multiple( 5 ) -> 90\n",
    "* Multiple ( 7 ) -> 9009\n",
    "* Multiple( 1 ) -> 9"
   ]
  },
  {
   "cell_type": "code",
   "execution_count": 3,
   "metadata": {},
   "outputs": [
    {
     "name": "stdout",
     "output_type": "stream",
     "text": [
      "45\n"
     ]
    },
    {
     "ename": "TypeError",
     "evalue": "'int' object is not iterable",
     "output_type": "error",
     "traceback": [
      "\u001b[1;31m---------------------------------------------------------------------------\u001b[0m",
      "\u001b[1;31mTypeError\u001b[0m                                 Traceback (most recent call last)",
      "\u001b[1;32m<ipython-input-3-a306ccb4920e>\u001b[0m in \u001b[0;36m<module>\u001b[1;34m\u001b[0m\n\u001b[0;32m      9\u001b[0m                     \u001b[0mprint\u001b[0m\u001b[1;33m(\u001b[0m\u001b[0mb\u001b[0m\u001b[1;33m)\u001b[0m\u001b[1;33m\u001b[0m\u001b[1;33m\u001b[0m\u001b[0m\n\u001b[0;32m     10\u001b[0m                     \u001b[1;32mbreak\u001b[0m\u001b[1;33m\u001b[0m\u001b[1;33m\u001b[0m\u001b[0m\n\u001b[1;32m---> 11\u001b[1;33m \u001b[0mmultiples\u001b[0m\u001b[1;33m(\u001b[0m\u001b[1;36m5\u001b[0m\u001b[1;33m)\u001b[0m\u001b[1;33m\u001b[0m\u001b[1;33m\u001b[0m\u001b[0m\n\u001b[0m",
      "\u001b[1;32m<ipython-input-3-a306ccb4920e>\u001b[0m in \u001b[0;36mmultiples\u001b[1;34m(n)\u001b[0m\n\u001b[0;32m      5\u001b[0m         \u001b[1;32mif\u001b[0m\u001b[1;33m(\u001b[0m\u001b[0mb\u001b[0m\u001b[1;33m%\u001b[0m\u001b[1;36m9\u001b[0m\u001b[1;33m==\u001b[0m\u001b[1;36m0\u001b[0m\u001b[1;33m)\u001b[0m\u001b[1;33m:\u001b[0m\u001b[1;33m\u001b[0m\u001b[1;33m\u001b[0m\u001b[0m\n\u001b[0;32m      6\u001b[0m             \u001b[0mprint\u001b[0m\u001b[1;33m(\u001b[0m\u001b[0mb\u001b[0m\u001b[1;33m)\u001b[0m\u001b[1;33m\u001b[0m\u001b[1;33m\u001b[0m\u001b[0m\n\u001b[1;32m----> 7\u001b[1;33m             \u001b[1;32mfor\u001b[0m \u001b[0mnumber\u001b[0m \u001b[1;32min\u001b[0m \u001b[0mb\u001b[0m\u001b[1;33m:\u001b[0m\u001b[1;33m\u001b[0m\u001b[1;33m\u001b[0m\u001b[0m\n\u001b[0m\u001b[0;32m      8\u001b[0m                 \u001b[1;32mif\u001b[0m\u001b[1;33m(\u001b[0m\u001b[1;36m0\u001b[0m \u001b[1;32min\u001b[0m \u001b[0mb\u001b[0m\u001b[1;33m)\u001b[0m\u001b[1;33m:\u001b[0m\u001b[1;33m\u001b[0m\u001b[1;33m\u001b[0m\u001b[0m\n\u001b[0;32m      9\u001b[0m                     \u001b[0mprint\u001b[0m\u001b[1;33m(\u001b[0m\u001b[0mb\u001b[0m\u001b[1;33m)\u001b[0m\u001b[1;33m\u001b[0m\u001b[1;33m\u001b[0m\u001b[0m\n",
      "\u001b[1;31mTypeError\u001b[0m: 'int' object is not iterable"
     ]
    }
   ],
   "source": [
    "def multiples(n):\n",
    "    for i in range(1, 10000):\n",
    "        b = n * i\n",
    "        #print(b)\n",
    "        if(b%9==0):\n",
    "            print(b)\n",
    "            for number in b:\n",
    "                if(0 in b):\n",
    "                    print(b)  \n",
    "                    break\n",
    "multiples(5)"
   ]
  },
  {
   "cell_type": "code",
   "execution_count": null,
   "metadata": {},
   "outputs": [],
   "source": []
  }
 ],
 "metadata": {
  "kernelspec": {
   "display_name": "Python 3",
   "language": "python",
   "name": "python3"
  },
  "language_info": {
   "codemirror_mode": {
    "name": "ipython",
    "version": 3
   },
   "file_extension": ".py",
   "mimetype": "text/x-python",
   "name": "python",
   "nbconvert_exporter": "python",
   "pygments_lexer": "ipython3",
   "version": "3.7.3"
  }
 },
 "nbformat": 4,
 "nbformat_minor": 2
}

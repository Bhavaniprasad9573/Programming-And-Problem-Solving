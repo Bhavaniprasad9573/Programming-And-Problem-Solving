{
 "cells": [
  {
   "cell_type": "markdown",
   "metadata": {},
   "source": [
    "## Recursion Problems\n",
    "\n",
    "### Problem 1:\n",
    "#### Problem Statement:\n",
    "Power of a number using recursion\n",
    "\n",
    "#### Constraints:\n",
    "\n",
    "#### Test cases:"
   ]
  },
  {
   "cell_type": "code",
   "execution_count": 3,
   "metadata": {},
   "outputs": [
    {
     "data": {
      "text/plain": [
       "19683"
      ]
     },
     "execution_count": 3,
     "metadata": {},
     "output_type": "execute_result"
    }
   ],
   "source": [
    "def recursivepower(n, r):\n",
    "    if r == 1:\n",
    "            return n\n",
    "    else:\n",
    "        return recursivepower(n, r-1) * n\n",
    "recursivepower(2, 3)\n",
    "recursivepower(3, 9)"
   ]
  },
  {
   "cell_type": "code",
   "execution_count": null,
   "metadata": {},
   "outputs": [],
   "source": []
  },
  {
   "cell_type": "markdown",
   "metadata": {},
   "source": [
    "### Problem 2:\n",
    "#### Problem Statement:\n",
    "Factorial of given number using Recursion\n",
    "\n",
    "#### Constraints:\n",
    "\n",
    "#### Test cases:"
   ]
  },
  {
   "cell_type": "code",
   "execution_count": 11,
   "metadata": {},
   "outputs": [
    {
     "data": {
      "text/plain": [
       "120"
      ]
     },
     "execution_count": 11,
     "metadata": {},
     "output_type": "execute_result"
    }
   ],
   "source": [
    "def factorial(n):\n",
    "    if n == 1:\n",
    "        return n\n",
    "    else:\n",
    "        return factorial(n-1) * n\n",
    "factorial(5)    "
   ]
  },
  {
   "cell_type": "code",
   "execution_count": null,
   "metadata": {},
   "outputs": [],
   "source": []
  },
  {
   "cell_type": "code",
   "execution_count": null,
   "metadata": {},
   "outputs": [],
   "source": []
  },
  {
   "cell_type": "code",
   "execution_count": 12,
   "metadata": {},
   "outputs": [
    {
     "data": {
      "text/plain": [
       "3"
      ]
     },
     "execution_count": 12,
     "metadata": {},
     "output_type": "execute_result"
    }
   ],
   "source": [
    "def gcdrecursive(a, b):\n",
    "    if b % a == 0:\n",
    "        return a\n",
    "    else:\n",
    "        return gcdrecursive(b % a, a)\n",
    "    \n",
    "gcdrecursive(12, 39)"
   ]
  },
  {
   "cell_type": "code",
   "execution_count": null,
   "metadata": {},
   "outputs": [],
   "source": []
  },
  {
   "cell_type": "code",
   "execution_count": 14,
   "metadata": {},
   "outputs": [
    {
     "data": {
      "text/plain": [
       "3"
      ]
     },
     "execution_count": 14,
     "metadata": {},
     "output_type": "execute_result"
    }
   ],
   "source": [
    "def gcditerative(a, b):\n",
    "    r = b % a\n",
    "    if(r == 0):\n",
    "        return a\n",
    "    while r != 0:\n",
    "        r = b % a\n",
    "        b = a\n",
    "        a = r\n",
    "    return b\n",
    "\n",
    "gcditerative(12, 39)"
   ]
  },
  {
   "cell_type": "code",
   "execution_count": null,
   "metadata": {},
   "outputs": [],
   "source": []
  },
  {
   "cell_type": "markdown",
   "metadata": {},
   "source": [
    "## Recursion Problems\n",
    "\n",
    "### Problem 1:\n",
    "#### Problem Statement:\n",
    "Given N disks, and three towers source, Destination and Temporary, design a procedure to list edit \n",
    "\n",
    "#### Constraints:\n",
    "Move only one disk at a time\n",
    "larger disk cannot be placed on smaller disk\n",
    "#### Test cases:\n",
    "\n",
    "#### Explanation\n",
    "n disks -> move n-1 disks  from source to temp\n",
    "           move nth disk from source to dest\n",
    "           move n-1 disks from temp to dest"
   ]
  },
  {
   "cell_type": "code",
   "execution_count": 21,
   "metadata": {},
   "outputs": [
    {
     "name": "stdout",
     "output_type": "stream",
     "text": [
      "Move 1 disk from A C\n",
      "Move 2 disk from A to B\n",
      "Move 1 disk from C B\n",
      "Move 3 disk from A to C\n",
      "Move 1 disk from B A\n",
      "Move 2 disk from B to C\n",
      "Move 1 disk from A C\n"
     ]
    }
   ],
   "source": [
    "def towersofhanoi(n, source, temp, dest):\n",
    "    if n == 1:\n",
    "        print('Move', n, 'disk from', source, dest)\n",
    "        return\n",
    "    else:\n",
    "        towersofhanoi(n-1, source, dest, temp)\n",
    "        print('Move', n, 'disk from', source, 'to',dest)\n",
    "        towersofhanoi(n-1, temp, source, dest)\n",
    "        return\n",
    "towersofhanoi(3, 'A','B','C')    \n",
    "    "
   ]
  },
  {
   "cell_type": "code",
   "execution_count": null,
   "metadata": {},
   "outputs": [],
   "source": []
  },
  {
   "cell_type": "markdown",
   "metadata": {},
   "source": [
    "### Problem 1;\n",
    "#### Problem Statement:\n",
    "Generating the Nth fibonacci number\n",
    "#### Constraints:\n",
    "a series of numbers in which each number ( Fibonacci number ) is the sum of the two preceding numbers\n",
    "#### Test cases:\n",
    "1, 1, 2, 3, 5, 8,"
   ]
  },
  {
   "cell_type": "code",
   "execution_count": 28,
   "metadata": {},
   "outputs": [
    {
     "name": "stdout",
     "output_type": "stream",
     "text": [
      "Enter number of terms:2\n",
      "Fibonacci sequence using Recursion :\n",
      "0\n",
      "1\n"
     ]
    }
   ],
   "source": [
    "def gen_seq(len):\n",
    "    if(len <= 1):\n",
    "        return len\n",
    "    else:\n",
    "        return (gen_seq(len-1) + gen_seq(len-2))\n",
    "\n",
    "len = int(input(\"Enter number of terms:\"))\n",
    "\n",
    "print(\"Fibonacci sequence using Recursion :\")\n",
    "for iter in range(len):\n",
    "    print(gen_seq(iter))"
   ]
  },
  {
   "cell_type": "code",
   "execution_count": null,
   "metadata": {},
   "outputs": [],
   "source": []
  },
  {
   "cell_type": "markdown",
   "metadata": {},
   "source": [
    "### Problem 1:\n",
    "#### Problem Statement:\n",
    "Define afunction to merge the characters of two strings alternatively  the remaining characters of the longer string are printed in the same order at the end.\n",
    "\n",
    "#### Constraints:\n",
    "\n",
    "#### Test cases:\n",
    "* Merge string('abcd','abcd')->'aabbccdd'\n",
    "* Merge string('abc','123456')->'a1b2c3456'"
   ]
  },
  {
   "cell_type": "code",
   "execution_count": 27,
   "metadata": {},
   "outputs": [],
   "source": [
    "def strings(A, B):\n",
    "\n",
    "    if len(A) > 0:\n",
    "        return str(A[0]) + str(B) + Combine(A[:0], \n",
    "    \n",
    "    \n",
    "    \n",
    "    \n",
    "    "
   ]
  },
  {
   "cell_type": "markdown",
   "metadata": {},
   "source": [
    "### Problem 1:\n",
    "#### Problem Statement:\n",
    "Define a function to check if a given year is a leap year. Returns a boolean value\n",
    "\n",
    "\n",
    "\n",
    "#### Constraints:\n",
    "\n",
    "#### Test cases:\n",
    "* 2000 -> True\n",
    "* 1900 -> False\n",
    "* 2012 -> True\n",
    "* 2020 -> True\n",
    "* 0200 -> False\n"
   ]
  },
  {
   "cell_type": "code",
   "execution_count": 7,
   "metadata": {},
   "outputs": [
    {
     "name": "stdout",
     "output_type": "stream",
     "text": [
      "True\n",
      "False\n",
      "True\n",
      "True\n",
      "False\n"
     ]
    }
   ],
   "source": [
    "def leapyear(n):\n",
    "    if(n % 4 == 0 and n % 100 != 0 or n % 400 == 0):\n",
    "        return True\n",
    "    else:\n",
    "        return False\n",
    "print(leapyear(2000))\n",
    "print(leapyear(1900))\n",
    "print(leapyear(2012))\n",
    "print(leapyear(2020))\n",
    "print(leapyear(200))"
   ]
  },
  {
   "cell_type": "code",
   "execution_count": null,
   "metadata": {},
   "outputs": [],
   "source": []
  },
  {
   "cell_type": "markdown",
   "metadata": {},
   "source": [
    "### Problem :\n",
    "#### Problem Statement:\n",
    "Define a function to convert a binary number to the corresponding decimal number\n",
    "\n",
    "#### Constraints:\n",
    "\n",
    "#### Test cases:\n",
    "* binaryToDecimal(1100) -> 12\n",
    "* binaryToDecimal(1010) -> 10\n",
    "* binaryToDecimal(111000) -> 56"
   ]
  },
  {
   "cell_type": "code",
   "execution_count": 107,
   "metadata": {},
   "outputs": [
    {
     "name": "stdout",
     "output_type": "stream",
     "text": [
      "12\n",
      "10\n",
      "56\n"
     ]
    }
   ],
   "source": [
    "def binarynumber(n):\n",
    "    k = str(n)\n",
    "    sum = 0\n",
    "    power = len(k)-1\n",
    "    for i in range(0, len(k)):\n",
    "        sum = sum + ((int( (k[i]) )* (2 ** power)))\n",
    "        power=power-1\n",
    "    return sum\n",
    "print(binarynumber(1100))\n",
    "print(binarynumber(1010))\n",
    "print(binarynumber(111000))"
   ]
  },
  {
   "cell_type": "code",
   "execution_count": 113,
   "metadata": {},
   "outputs": [
    {
     "ename": "IndexError",
     "evalue": "list index out of range",
     "output_type": "error",
     "traceback": [
      "\u001b[1;31m---------------------------------------------------------------------------\u001b[0m",
      "\u001b[1;31mIndexError\u001b[0m                                Traceback (most recent call last)",
      "\u001b[1;32m<ipython-input-113-96ba7a020a6b>\u001b[0m in \u001b[0;36m<module>\u001b[1;34m\u001b[0m\n\u001b[0;32m      1\u001b[0m \u001b[0ma\u001b[0m\u001b[1;33m=\u001b[0m\u001b[1;33m[\u001b[0m\u001b[1;36m45758\u001b[0m\u001b[1;33m]\u001b[0m\u001b[1;33m\u001b[0m\u001b[1;33m\u001b[0m\u001b[0m\n\u001b[1;32m----> 2\u001b[1;33m \u001b[0ma\u001b[0m\u001b[1;33m[\u001b[0m\u001b[1;36m1\u001b[0m\u001b[1;33m]\u001b[0m\u001b[1;33m\u001b[0m\u001b[1;33m\u001b[0m\u001b[0m\n\u001b[0m",
      "\u001b[1;31mIndexError\u001b[0m: list index out of range"
     ]
    }
   ],
   "source": [
    "a=[45758]\n",
    "a[1]\n"
   ]
  },
  {
   "cell_type": "code",
   "execution_count": null,
   "metadata": {},
   "outputs": [],
   "source": []
  },
  {
   "cell_type": "markdown",
   "metadata": {},
   "source": [
    "### Problem :\n",
    "#### Problem Statement:\n",
    "Define a function to convert a decimal number to the corresponding binary number.\n",
    "\n",
    "\n",
    "#### Constraints:\n",
    "\n",
    "#### Test cases:\n",
    "decimalToBinary(15) -> 1111\n",
    "decimalToBinary(1) -> 1\n"
   ]
  },
  {
   "cell_type": "code",
   "execution_count": null,
   "metadata": {},
   "outputs": [],
   "source": [
    "def decimalnumber(d):\n",
    "    "
   ]
  },
  {
   "cell_type": "code",
   "execution_count": null,
   "metadata": {},
   "outputs": [],
   "source": [
    "def "
   ]
  }
 ],
 "metadata": {
  "kernelspec": {
   "display_name": "Python 3",
   "language": "python",
   "name": "python3"
  },
  "language_info": {
   "codemirror_mode": {
    "name": "ipython",
    "version": 3
   },
   "file_extension": ".py",
   "mimetype": "text/x-python",
   "name": "python",
   "nbconvert_exporter": "python",
   "pygments_lexer": "ipython3",
   "version": "3.7.3"
  }
 },
 "nbformat": 4,
 "nbformat_minor": 2
}

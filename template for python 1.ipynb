{
 "cells": [
  {
   "cell_type": "markdown",
   "metadata": {},
   "source": [
    "# Problem Solvig And Programming\n",
    "\n",
    "### 5th Day\n",
    " \n",
    "### 8th May 2019\n",
    "\n",
    "### Day Objectives\n",
    "1. Objective 1\n",
    "2. Objective 2\n",
    "3. Objective 3\n",
    "\n",
    "\n",
    "\n",
    "### Problem 1 :\n",
    "#### Problem Statement\n",
    "\n",
    "#### Constraints\n",
    "\n",
    "#### Test Cases\n",
    "* Test Case 1\n",
    "* Test case 2\n",
    "\n",
    "\n",
    "\n",
    "```python\n",
    "\n",
    "```\n"
   ]
  },
  {
   "cell_type": "code",
   "execution_count": null,
   "metadata": {},
   "outputs": [],
   "source": []
  }
 ],
 "metadata": {
  "kernelspec": {
   "display_name": "Python 3",
   "language": "python",
   "name": "python3"
  },
  "language_info": {
   "codemirror_mode": {
    "name": "ipython",
    "version": 3
   },
   "file_extension": ".py",
   "mimetype": "text/x-python",
   "name": "python",
   "nbconvert_exporter": "python",
   "pygments_lexer": "ipython3",
   "version": "3.7.3"
  }
 },
 "nbformat": 4,
 "nbformat_minor": 2
}
